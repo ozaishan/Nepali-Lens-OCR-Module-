{
 "cells": [
  {
   "cell_type": "code",
   "execution_count": 172,
   "metadata": {},
   "outputs": [],
   "source": [
    "import os\n",
    "import torch\n",
    "import torch.nn as nn\n",
    "import torch.optim as optim\n",
    "from torch.utils.data import DataLoader, Dataset\n",
    "from torchvision import transforms\n",
    "from PIL import Image\n",
    "import pandas as pd\n",
    "from torch.nn.utils.rnn import pad_sequence\n",
    "from sklearn.model_selection import KFold\n",
    "from torch.utils.data import Subset\n",
    "from tqdm import tqdm\n",
    "\n",
    "os.environ[\"PYTORCH_ENABLE_MPS_FALLBACK\"] = \"1\""
   ]
  },
  {
   "cell_type": "code",
   "execution_count": 173,
   "metadata": {},
   "outputs": [
    {
     "name": "stdout",
     "output_type": "stream",
     "text": [
      "Line 0: '\\n'\n",
      "Line 1: ' \\n'\n",
      "Line 2: '!\\n'\n",
      "Line 3: '\"\\n'\n",
      "Line 4: '(\\n'\n",
      "Line 5: ')\\n'\n",
      "Line 6: '-\\n'\n",
      "Line 7: '.\\n'\n",
      "Line 8: '/\\n'\n",
      "Line 9: '0\\n'\n",
      "Line 10: '1\\n'\n",
      "Line 11: '2\\n'\n",
      "Line 12: '3\\n'\n",
      "Line 13: '4\\n'\n",
      "Line 14: '5\\n'\n",
      "Line 15: '6\\n'\n",
      "Line 16: '7\\n'\n",
      "Line 17: '8\\n'\n",
      "Line 18: '9\\n'\n",
      "Line 19: ':\\n'\n",
      "Line 20: '=\\n'\n",
      "Line 21: '?\\n'\n",
      "Line 22: 'A\\n'\n",
      "Line 23: 'B\\n'\n",
      "Line 24: 'C\\n'\n",
      "Line 25: 'D\\n'\n",
      "Line 26: 'E\\n'\n",
      "Line 27: 'F\\n'\n",
      "Line 28: 'G\\n'\n",
      "Line 29: 'H\\n'\n",
      "Line 30: 'I\\n'\n",
      "Line 31: 'K\\n'\n",
      "Line 32: 'L\\n'\n",
      "Line 33: 'M\\n'\n",
      "Line 34: 'N\\n'\n",
      "Line 35: 'O\\n'\n",
      "Line 36: 'P\\n'\n",
      "Line 37: 'Q\\n'\n",
      "Line 38: 'R\\n'\n",
      "Line 39: 'S\\n'\n",
      "Line 40: 'T\\n'\n",
      "Line 41: 'U\\n'\n",
      "Line 42: 'W\\n'\n",
      "Line 43: 'Y\\n'\n",
      "Line 44: 'a\\n'\n",
      "Line 45: 'b\\n'\n",
      "Line 46: 'c\\n'\n",
      "Line 47: 'd\\n'\n",
      "Line 48: 'e\\n'\n",
      "Line 49: 'f\\n'\n",
      "Line 50: 'g\\n'\n",
      "Line 51: 'h\\n'\n",
      "Line 52: 'i\\n'\n",
      "Line 53: 'j\\n'\n",
      "Line 54: 'k\\n'\n",
      "Line 55: 'l\\n'\n",
      "Line 56: 'm\\n'\n",
      "Line 57: 'n\\n'\n",
      "Line 58: 'o\\n'\n",
      "Line 59: 'p\\n'\n",
      "Line 60: 'r\\n'\n",
      "Line 61: 's\\n'\n",
      "Line 62: 't\\n'\n",
      "Line 63: 'u\\n'\n",
      "Line 64: 'v\\n'\n",
      "Line 65: 'w\\n'\n",
      "Line 66: 'y\\n'\n",
      "Line 67: 'ँ\\n'\n",
      "Line 68: 'ं\\n'\n",
      "Line 69: 'अ\\n'\n",
      "Line 70: 'आ\\n'\n",
      "Line 71: 'इ\\n'\n",
      "Line 72: 'ई\\n'\n",
      "Line 73: 'उ\\n'\n",
      "Line 74: 'ऊ\\n'\n",
      "Line 75: 'ऎ\\n'\n",
      "Line 76: 'ए\\n'\n",
      "Line 77: 'ऒ\\n'\n",
      "Line 78: 'ओ\\n'\n",
      "Line 79: 'औ\\n'\n",
      "Line 80: 'क\\n'\n",
      "Line 81: 'ख\\n'\n",
      "Line 82: 'ग\\n'\n",
      "Line 83: 'घ\\n'\n",
      "Line 84: 'ङ\\n'\n",
      "Line 85: 'च\\n'\n",
      "Line 86: 'छ\\n'\n",
      "Line 87: 'ज\\n'\n",
      "Line 88: 'झ\\n'\n",
      "Line 89: 'ञ\\n'\n",
      "Line 90: 'ट\\n'\n",
      "Line 91: 'ठ\\n'\n",
      "Line 92: 'ड\\n'\n",
      "Line 93: 'ढ\\n'\n",
      "Line 94: 'ण\\n'\n",
      "Line 95: 'त\\n'\n",
      "Line 96: 'थ\\n'\n",
      "Line 97: 'द\\n'\n",
      "Line 98: 'ध\\n'\n",
      "Line 99: 'न\\n'\n",
      "Line 100: 'प\\n'\n",
      "Line 101: 'फ\\n'\n",
      "Line 102: 'ब\\n'\n",
      "Line 103: 'भ\\n'\n",
      "Line 104: 'म\\n'\n",
      "Line 105: 'य\\n'\n",
      "Line 106: 'र\\n'\n",
      "Line 107: 'ल\\n'\n",
      "Line 108: 'व\\n'\n",
      "Line 109: 'श\\n'\n",
      "Line 110: 'ष\\n'\n",
      "Line 111: 'स\\n'\n",
      "Line 112: 'ह\\n'\n",
      "Line 113: 'ा\\n'\n",
      "Line 114: 'ि\\n'\n",
      "Line 115: 'ी\\n'\n",
      "Line 116: 'ु\\n'\n",
      "Line 117: 'ू\\n'\n",
      "Line 118: 'ृ\\n'\n",
      "Line 119: 'ॄ\\n'\n",
      "Line 120: 'ॅ\\n'\n",
      "Line 121: 'ॆ\\n'\n",
      "Line 122: 'े\\n'\n",
      "Line 123: 'ै\\n'\n",
      "Line 124: 'ॉ\\n'\n",
      "Line 125: 'ॊ\\n'\n",
      "Line 126: 'ो\\n'\n",
      "Line 127: 'ौ\\n'\n",
      "Line 128: '्\\n'\n",
      "Line 129: 'फ़\\n'\n",
      "Line 130: '।\\n'\n",
      "Line 131: '०\\n'\n",
      "Line 132: '१\\n'\n",
      "Line 133: '२\\n'\n",
      "Line 134: '३\\n'\n",
      "Line 135: '४\\n'\n",
      "Line 136: '५\\n'\n",
      "Line 137: '६\\n'\n",
      "Line 138: '७\\n'\n",
      "Line 139: '८\\n'\n",
      "Line 140: '९\\n'\n"
     ]
    }
   ],
   "source": [
    "with open(\"nepali_characters.txt\", encoding=\"utf-8\") as f:\n",
    "    for i, line in enumerate(f):\n",
    "        print(f\"Line {i}: {repr(line)}\")"
   ]
  },
  {
   "cell_type": "code",
   "execution_count": 174,
   "metadata": {},
   "outputs": [],
   "source": [
    "\n",
    "def load_labels_safely(csv_path, encoding='utf-8'):\n",
    "    rows = []\n",
    "    with open(csv_path, 'r', encoding=encoding) as f:\n",
    "        for line in f:\n",
    "            line = line.strip()\n",
    "            if not line:\n",
    "                continue\n",
    "            parts = line.split(' ', 1)  # split at the first space only\n",
    "            if len(parts) == 2:\n",
    "                filename, text = parts\n",
    "                rows.append((filename, text))\n",
    "    return pd.DataFrame(rows, columns=[\"filename\", \"text\"])"
   ]
  },
  {
   "cell_type": "code",
   "execution_count": 175,
   "metadata": {},
   "outputs": [],
   "source": [
    "# Dataset Loading\n",
    "class NepaliOCRDataset(Dataset):\n",
    "    def __init__(self, csv_path, image_dir, transform=None, charset=None):\n",
    "        self.data = load_labels_safely(csv_path, encoding='utf-16')\n",
    "        self.image_dir = image_dir\n",
    "        self.transform = transform or transforms.Compose([\n",
    "            transforms.Grayscale(),\n",
    "            transforms.Resize((16,128)),\n",
    "            transforms.ToTensor(),\n",
    "            transforms.Normalize((0.5, ), (0.5,))\n",
    "        ])\n",
    "        self.charset = charset\n",
    "        self.char_to_idx = {char: idx + 1 for idx, char in enumerate(self.charset)}\n",
    "    \n",
    "    def __len__(self):\n",
    "        return len(self.data)\n",
    "    \n",
    "    def encode_text(self, text):\n",
    "        return torch.tensor([self.char_to_idx[c] for c in text], dtype=torch.long)\n",
    "    \n",
    "    def __getitem__(self, index):\n",
    "        img_name = self.data.iloc[index, 0]\n",
    "        label = self.data.iloc[index, 1]\n",
    "        img_path = os.path.join(self.image_dir, img_name)\n",
    "        image = Image.open(img_path).convert(\"RGB\")\n",
    "        image = self.transform(image)\n",
    "        label_encoded = self.encode_text(label)\n",
    "        return image, label_encoded\n"
   ]
  },
  {
   "cell_type": "code",
   "execution_count": 176,
   "metadata": {},
   "outputs": [],
   "source": [
    "# Defining CRNN Model\n",
    "\n",
    "class CRNN(nn.Module):\n",
    "    def __init__(self, num_classes):\n",
    "        super(CRNN, self).__init__()\n",
    "        self.cnn = nn.Sequential(\n",
    "            nn.Conv2d(1, 64, 3, padding=1), nn.ReLU(), nn.MaxPool2d(2,2),\n",
    "            nn.Conv2d(64, 128, 3, padding=1), nn.ReLU(), nn.MaxPool2d(2,2),\n",
    "            nn.Conv2d(128, 256, 3, padding=1), nn.ReLU(),\n",
    "            nn.Conv2d(256, 256, 3, padding=1), nn.ReLU(), nn.MaxPool2d((2,1), (2,1)),\n",
    "            nn.Conv2d(256, 512, 3, padding=1), nn.ReLU(),\n",
    "            nn.BatchNorm2d(512),\n",
    "            nn.Conv2d(512, 512, 3, padding=1), nn.ReLU(), nn.BatchNorm2d(512), nn.MaxPool2d((2,1), (2,1))\n",
    "        )\n",
    "        self.rnn = nn.LSTM(512, 256, bidirectional=True, num_layers=2, batch_first=True)\n",
    "        self.fc = nn.Linear(512, num_classes + 1) # +1 for CTC blank\n",
    "\n",
    "    def forward(self,x):\n",
    "        x = self.cnn(x)\n",
    "        b, c, h, w = x.size()\n",
    "        assert h == 1, \"height must be 1 after conv layers\"\n",
    "        x = x.squeeze(2).permute(0,2,1)     # [batch, width, channels]\n",
    "        x, _ = self.rnn(x)\n",
    "        x = self.fc(x)\n",
    "        return x.permute(1,0,2)     # [T, B, C] for CTC"
   ]
  },
  {
   "cell_type": "code",
   "execution_count": 177,
   "metadata": {},
   "outputs": [],
   "source": [
    "# Collate Function\n",
    "\n",
    "def collate_fn(batch):\n",
    "    images, labels = zip(*batch)\n",
    "    image_batch = torch.stack(images, 0)\n",
    "    label_lengths = torch.tensor([len(l) for l in labels], dtype=torch.long)\n",
    "    labels = pad_sequence(labels, batch_first=True, padding_value=0)\n",
    "    return image_batch, labels, label_lengths"
   ]
  },
  {
   "cell_type": "code",
   "execution_count": 178,
   "metadata": {},
   "outputs": [
    {
     "name": "stdout",
     "output_type": "stream",
     "text": [
      "Using Device: mps\n",
      "\n",
      "--- Fold 1 ---\n"
     ]
    },
    {
     "name": "stderr",
     "output_type": "stream",
     "text": [
      "Epoch 1 [Train]: 100%|██████████| 436/436 [00:12<00:00, 34.04it/s]\n",
      "Epoch 1 [Val]: 100%|██████████| 109/109 [00:01<00:00, 92.75it/s]\n"
     ]
    },
    {
     "name": "stdout",
     "output_type": "stream",
     "text": [
      "Epoch 1: Train Loss = 4.2972, Val Loss = 3.9362\n"
     ]
    },
    {
     "name": "stderr",
     "output_type": "stream",
     "text": [
      "Epoch 2 [Train]: 100%|██████████| 436/436 [00:12<00:00, 36.19it/s]\n",
      "Epoch 2 [Val]: 100%|██████████| 109/109 [00:01<00:00, 92.45it/s]\n"
     ]
    },
    {
     "name": "stdout",
     "output_type": "stream",
     "text": [
      "Epoch 2: Train Loss = 3.8727, Val Loss = 3.8423\n"
     ]
    },
    {
     "name": "stderr",
     "output_type": "stream",
     "text": [
      "Epoch 3 [Train]: 100%|██████████| 436/436 [00:12<00:00, 35.38it/s]\n",
      "Epoch 3 [Val]: 100%|██████████| 109/109 [00:01<00:00, 97.51it/s]\n"
     ]
    },
    {
     "name": "stdout",
     "output_type": "stream",
     "text": [
      "Epoch 3: Train Loss = 3.8380, Val Loss = 3.8687\n"
     ]
    },
    {
     "name": "stderr",
     "output_type": "stream",
     "text": [
      "Epoch 4 [Train]: 100%|██████████| 436/436 [00:11<00:00, 36.52it/s]\n",
      "Epoch 4 [Val]: 100%|██████████| 109/109 [00:01<00:00, 101.06it/s]\n"
     ]
    },
    {
     "name": "stdout",
     "output_type": "stream",
     "text": [
      "Epoch 4: Train Loss = 3.7784, Val Loss = 3.7825\n"
     ]
    },
    {
     "name": "stderr",
     "output_type": "stream",
     "text": [
      "Epoch 5 [Train]: 100%|██████████| 436/436 [00:11<00:00, 36.94it/s]\n",
      "Epoch 5 [Val]: 100%|██████████| 109/109 [00:01<00:00, 99.42it/s]\n"
     ]
    },
    {
     "name": "stdout",
     "output_type": "stream",
     "text": [
      "Epoch 5: Train Loss = 3.7070, Val Loss = 3.7241\n"
     ]
    },
    {
     "name": "stderr",
     "output_type": "stream",
     "text": [
      "Epoch 6 [Train]: 100%|██████████| 436/436 [00:11<00:00, 36.87it/s]\n",
      "Epoch 6 [Val]: 100%|██████████| 109/109 [00:01<00:00, 103.64it/s]\n"
     ]
    },
    {
     "name": "stdout",
     "output_type": "stream",
     "text": [
      "Epoch 6: Train Loss = 3.6281, Val Loss = 3.6537\n"
     ]
    },
    {
     "name": "stderr",
     "output_type": "stream",
     "text": [
      "Epoch 7 [Train]: 100%|██████████| 436/436 [00:11<00:00, 36.80it/s]\n",
      "Epoch 7 [Val]: 100%|██████████| 109/109 [00:01<00:00, 103.92it/s]\n"
     ]
    },
    {
     "name": "stdout",
     "output_type": "stream",
     "text": [
      "Epoch 7: Train Loss = 3.5533, Val Loss = 3.5711\n"
     ]
    },
    {
     "name": "stderr",
     "output_type": "stream",
     "text": [
      "Epoch 8 [Train]: 100%|██████████| 436/436 [00:13<00:00, 33.53it/s]\n",
      "Epoch 8 [Val]: 100%|██████████| 109/109 [00:01<00:00, 78.76it/s]\n"
     ]
    },
    {
     "name": "stdout",
     "output_type": "stream",
     "text": [
      "Epoch 8: Train Loss = 3.4770, Val Loss = 3.5206\n"
     ]
    },
    {
     "name": "stderr",
     "output_type": "stream",
     "text": [
      "Epoch 9 [Train]: 100%|██████████| 436/436 [00:12<00:00, 34.21it/s]\n",
      "Epoch 9 [Val]: 100%|██████████| 109/109 [00:01<00:00, 87.05it/s]\n"
     ]
    },
    {
     "name": "stdout",
     "output_type": "stream",
     "text": [
      "Epoch 9: Train Loss = 3.3960, Val Loss = 3.5011\n"
     ]
    },
    {
     "name": "stderr",
     "output_type": "stream",
     "text": [
      "Epoch 10 [Train]: 100%|██████████| 436/436 [00:12<00:00, 34.58it/s]\n",
      "Epoch 10 [Val]: 100%|██████████| 109/109 [00:01<00:00, 91.58it/s]\n"
     ]
    },
    {
     "name": "stdout",
     "output_type": "stream",
     "text": [
      "Epoch 10: Train Loss = 3.3231, Val Loss = 3.4227\n"
     ]
    },
    {
     "name": "stderr",
     "output_type": "stream",
     "text": [
      "Epoch 11 [Train]: 100%|██████████| 436/436 [00:12<00:00, 34.77it/s]\n",
      "Epoch 11 [Val]: 100%|██████████| 109/109 [00:01<00:00, 88.98it/s]\n"
     ]
    },
    {
     "name": "stdout",
     "output_type": "stream",
     "text": [
      "Epoch 11: Train Loss = 3.2365, Val Loss = 3.3667\n"
     ]
    },
    {
     "name": "stderr",
     "output_type": "stream",
     "text": [
      "Epoch 12 [Train]: 100%|██████████| 436/436 [00:12<00:00, 34.05it/s]\n",
      "Epoch 12 [Val]: 100%|██████████| 109/109 [00:01<00:00, 88.73it/s]\n"
     ]
    },
    {
     "name": "stdout",
     "output_type": "stream",
     "text": [
      "Epoch 12: Train Loss = 3.1709, Val Loss = 3.3537\n"
     ]
    },
    {
     "name": "stderr",
     "output_type": "stream",
     "text": [
      "Epoch 13 [Train]: 100%|██████████| 436/436 [00:12<00:00, 34.68it/s]\n",
      "Epoch 13 [Val]: 100%|██████████| 109/109 [00:01<00:00, 86.27it/s]\n"
     ]
    },
    {
     "name": "stdout",
     "output_type": "stream",
     "text": [
      "Epoch 13: Train Loss = 3.0819, Val Loss = 3.2957\n"
     ]
    },
    {
     "name": "stderr",
     "output_type": "stream",
     "text": [
      "Epoch 14 [Train]: 100%|██████████| 436/436 [00:12<00:00, 34.37it/s]\n",
      "Epoch 14 [Val]: 100%|██████████| 109/109 [00:01<00:00, 90.21it/s]\n"
     ]
    },
    {
     "name": "stdout",
     "output_type": "stream",
     "text": [
      "Epoch 14: Train Loss = 3.0031, Val Loss = 3.3635\n"
     ]
    },
    {
     "name": "stderr",
     "output_type": "stream",
     "text": [
      "Epoch 15 [Train]: 100%|██████████| 436/436 [00:12<00:00, 34.53it/s]\n",
      "Epoch 15 [Val]: 100%|██████████| 109/109 [00:01<00:00, 90.08it/s]\n"
     ]
    },
    {
     "name": "stdout",
     "output_type": "stream",
     "text": [
      "Epoch 15: Train Loss = 2.9112, Val Loss = 3.1789\n"
     ]
    },
    {
     "name": "stderr",
     "output_type": "stream",
     "text": [
      "Epoch 16 [Train]: 100%|██████████| 436/436 [00:12<00:00, 34.18it/s]\n",
      "Epoch 16 [Val]: 100%|██████████| 109/109 [00:01<00:00, 89.35it/s]\n"
     ]
    },
    {
     "name": "stdout",
     "output_type": "stream",
     "text": [
      "Epoch 16: Train Loss = 2.8084, Val Loss = 3.2039\n"
     ]
    },
    {
     "name": "stderr",
     "output_type": "stream",
     "text": [
      "Epoch 17 [Train]: 100%|██████████| 436/436 [00:12<00:00, 33.86it/s]\n",
      "Epoch 17 [Val]: 100%|██████████| 109/109 [00:01<00:00, 92.47it/s]\n"
     ]
    },
    {
     "name": "stdout",
     "output_type": "stream",
     "text": [
      "Epoch 17: Train Loss = 2.6966, Val Loss = 3.1337\n"
     ]
    },
    {
     "name": "stderr",
     "output_type": "stream",
     "text": [
      "Epoch 18 [Train]: 100%|██████████| 436/436 [00:12<00:00, 34.21it/s]\n",
      "Epoch 18 [Val]: 100%|██████████| 109/109 [00:01<00:00, 84.49it/s]\n"
     ]
    },
    {
     "name": "stdout",
     "output_type": "stream",
     "text": [
      "Epoch 18: Train Loss = 2.5906, Val Loss = 3.0929\n"
     ]
    },
    {
     "name": "stderr",
     "output_type": "stream",
     "text": [
      "Epoch 19 [Train]: 100%|██████████| 436/436 [00:12<00:00, 34.13it/s]\n",
      "Epoch 19 [Val]: 100%|██████████| 109/109 [00:01<00:00, 85.86it/s]\n"
     ]
    },
    {
     "name": "stdout",
     "output_type": "stream",
     "text": [
      "Epoch 19: Train Loss = 2.5024, Val Loss = 3.0330\n"
     ]
    },
    {
     "name": "stderr",
     "output_type": "stream",
     "text": [
      "Epoch 20 [Train]: 100%|██████████| 436/436 [00:12<00:00, 33.83it/s]\n",
      "Epoch 20 [Val]: 100%|██████████| 109/109 [00:01<00:00, 84.65it/s]\n"
     ]
    },
    {
     "name": "stdout",
     "output_type": "stream",
     "text": [
      "Epoch 20: Train Loss = 2.3800, Val Loss = 3.0619\n"
     ]
    },
    {
     "name": "stderr",
     "output_type": "stream",
     "text": [
      "Epoch 21 [Train]: 100%|██████████| 436/436 [00:13<00:00, 33.34it/s]\n",
      "Epoch 21 [Val]: 100%|██████████| 109/109 [00:01<00:00, 79.38it/s]\n"
     ]
    },
    {
     "name": "stdout",
     "output_type": "stream",
     "text": [
      "Epoch 21: Train Loss = 2.2492, Val Loss = 2.9748\n"
     ]
    },
    {
     "name": "stderr",
     "output_type": "stream",
     "text": [
      "Epoch 22 [Train]: 100%|██████████| 436/436 [00:13<00:00, 33.27it/s]\n",
      "Epoch 22 [Val]: 100%|██████████| 109/109 [00:01<00:00, 80.09it/s]\n"
     ]
    },
    {
     "name": "stdout",
     "output_type": "stream",
     "text": [
      "Epoch 22: Train Loss = 2.1230, Val Loss = 2.9991\n"
     ]
    },
    {
     "name": "stderr",
     "output_type": "stream",
     "text": [
      "Epoch 23 [Train]: 100%|██████████| 436/436 [00:13<00:00, 33.06it/s]\n",
      "Epoch 23 [Val]: 100%|██████████| 109/109 [00:01<00:00, 78.42it/s]\n"
     ]
    },
    {
     "name": "stdout",
     "output_type": "stream",
     "text": [
      "Epoch 23: Train Loss = 1.9985, Val Loss = 3.0002\n"
     ]
    },
    {
     "name": "stderr",
     "output_type": "stream",
     "text": [
      "Epoch 24 [Train]: 100%|██████████| 436/436 [00:13<00:00, 32.98it/s]\n",
      "Epoch 24 [Val]: 100%|██████████| 109/109 [00:01<00:00, 81.82it/s]\n"
     ]
    },
    {
     "name": "stdout",
     "output_type": "stream",
     "text": [
      "Epoch 24: Train Loss = 1.8694, Val Loss = 2.9561\n"
     ]
    },
    {
     "name": "stderr",
     "output_type": "stream",
     "text": [
      "Epoch 25 [Train]: 100%|██████████| 436/436 [00:12<00:00, 33.78it/s]\n",
      "Epoch 25 [Val]: 100%|██████████| 109/109 [00:01<00:00, 83.87it/s]\n"
     ]
    },
    {
     "name": "stdout",
     "output_type": "stream",
     "text": [
      "Epoch 25: Train Loss = 1.7335, Val Loss = 3.0362\n"
     ]
    },
    {
     "name": "stderr",
     "output_type": "stream",
     "text": [
      "Epoch 26 [Train]: 100%|██████████| 436/436 [00:13<00:00, 33.26it/s]\n",
      "Epoch 26 [Val]: 100%|██████████| 109/109 [00:01<00:00, 78.93it/s]\n"
     ]
    },
    {
     "name": "stdout",
     "output_type": "stream",
     "text": [
      "Epoch 26: Train Loss = 1.6060, Val Loss = 2.9692\n"
     ]
    },
    {
     "name": "stderr",
     "output_type": "stream",
     "text": [
      "Epoch 27 [Train]: 100%|██████████| 436/436 [00:13<00:00, 33.13it/s]\n",
      "Epoch 27 [Val]: 100%|██████████| 109/109 [00:01<00:00, 81.40it/s]\n"
     ]
    },
    {
     "name": "stdout",
     "output_type": "stream",
     "text": [
      "Epoch 27: Train Loss = 1.4753, Val Loss = 3.0456\n"
     ]
    },
    {
     "name": "stderr",
     "output_type": "stream",
     "text": [
      "Epoch 28 [Train]: 100%|██████████| 436/436 [00:13<00:00, 33.02it/s]\n",
      "Epoch 28 [Val]: 100%|██████████| 109/109 [00:01<00:00, 84.98it/s]\n"
     ]
    },
    {
     "name": "stdout",
     "output_type": "stream",
     "text": [
      "Epoch 28: Train Loss = 1.3488, Val Loss = 3.0564\n"
     ]
    },
    {
     "name": "stderr",
     "output_type": "stream",
     "text": [
      "Epoch 29 [Train]: 100%|██████████| 436/436 [00:12<00:00, 34.11it/s]\n",
      "Epoch 29 [Val]: 100%|██████████| 109/109 [00:01<00:00, 82.00it/s]\n"
     ]
    },
    {
     "name": "stdout",
     "output_type": "stream",
     "text": [
      "Epoch 29: Train Loss = 1.2184, Val Loss = 3.0456\n"
     ]
    },
    {
     "name": "stderr",
     "output_type": "stream",
     "text": [
      "Epoch 30 [Train]: 100%|██████████| 436/436 [00:13<00:00, 32.28it/s]\n",
      "Epoch 30 [Val]: 100%|██████████| 109/109 [00:01<00:00, 97.41it/s]\n"
     ]
    },
    {
     "name": "stdout",
     "output_type": "stream",
     "text": [
      "Epoch 30: Train Loss = 1.0843, Val Loss = 3.0625\n"
     ]
    },
    {
     "name": "stderr",
     "output_type": "stream",
     "text": [
      "Epoch 31 [Train]: 100%|██████████| 436/436 [00:12<00:00, 33.59it/s]\n",
      "Epoch 31 [Val]: 100%|██████████| 109/109 [00:01<00:00, 92.15it/s]\n"
     ]
    },
    {
     "name": "stdout",
     "output_type": "stream",
     "text": [
      "Epoch 31: Train Loss = 0.9454, Val Loss = 3.1663\n"
     ]
    },
    {
     "name": "stderr",
     "output_type": "stream",
     "text": [
      "Epoch 32 [Train]: 100%|██████████| 436/436 [00:12<00:00, 33.78it/s]\n",
      "Epoch 32 [Val]: 100%|██████████| 109/109 [00:01<00:00, 93.06it/s]\n"
     ]
    },
    {
     "name": "stdout",
     "output_type": "stream",
     "text": [
      "Epoch 32: Train Loss = 0.8773, Val Loss = 3.2636\n"
     ]
    },
    {
     "name": "stderr",
     "output_type": "stream",
     "text": [
      "Epoch 33 [Train]: 100%|██████████| 436/436 [00:12<00:00, 33.56it/s]\n",
      "Epoch 33 [Val]: 100%|██████████| 109/109 [00:01<00:00, 98.03it/s]\n"
     ]
    },
    {
     "name": "stdout",
     "output_type": "stream",
     "text": [
      "Epoch 33: Train Loss = 0.8197, Val Loss = 3.2045\n"
     ]
    },
    {
     "name": "stderr",
     "output_type": "stream",
     "text": [
      "Epoch 34 [Train]: 100%|██████████| 436/436 [00:12<00:00, 33.54it/s]\n",
      "Epoch 34 [Val]: 100%|██████████| 109/109 [00:01<00:00, 97.22it/s]\n"
     ]
    },
    {
     "name": "stdout",
     "output_type": "stream",
     "text": [
      "Epoch 34: Train Loss = 0.6871, Val Loss = 3.2719\n"
     ]
    },
    {
     "name": "stderr",
     "output_type": "stream",
     "text": [
      "Epoch 35 [Train]: 100%|██████████| 436/436 [00:12<00:00, 33.58it/s]\n",
      "Epoch 35 [Val]: 100%|██████████| 109/109 [00:01<00:00, 94.59it/s]\n"
     ]
    },
    {
     "name": "stdout",
     "output_type": "stream",
     "text": [
      "Epoch 35: Train Loss = 0.5688, Val Loss = 3.3355\n"
     ]
    },
    {
     "name": "stderr",
     "output_type": "stream",
     "text": [
      "Epoch 36 [Train]: 100%|██████████| 436/436 [00:12<00:00, 33.56it/s]\n",
      "Epoch 36 [Val]: 100%|██████████| 109/109 [00:01<00:00, 94.61it/s]\n"
     ]
    },
    {
     "name": "stdout",
     "output_type": "stream",
     "text": [
      "Epoch 36: Train Loss = 0.5151, Val Loss = 3.4886\n"
     ]
    },
    {
     "name": "stderr",
     "output_type": "stream",
     "text": [
      "Epoch 37 [Train]: 100%|██████████| 436/436 [00:13<00:00, 33.54it/s]\n",
      "Epoch 37 [Val]: 100%|██████████| 109/109 [00:01<00:00, 96.23it/s]\n"
     ]
    },
    {
     "name": "stdout",
     "output_type": "stream",
     "text": [
      "Epoch 37: Train Loss = 0.4489, Val Loss = 3.4732\n"
     ]
    },
    {
     "name": "stderr",
     "output_type": "stream",
     "text": [
      "Epoch 38 [Train]: 100%|██████████| 436/436 [00:12<00:00, 33.66it/s]\n",
      "Epoch 38 [Val]: 100%|██████████| 109/109 [00:01<00:00, 92.29it/s]\n"
     ]
    },
    {
     "name": "stdout",
     "output_type": "stream",
     "text": [
      "Epoch 38: Train Loss = 0.3984, Val Loss = 3.5074\n"
     ]
    },
    {
     "name": "stderr",
     "output_type": "stream",
     "text": [
      "Epoch 39 [Train]: 100%|██████████| 436/436 [00:12<00:00, 33.59it/s]\n",
      "Epoch 39 [Val]: 100%|██████████| 109/109 [00:01<00:00, 94.53it/s]\n"
     ]
    },
    {
     "name": "stdout",
     "output_type": "stream",
     "text": [
      "Epoch 39: Train Loss = 0.3322, Val Loss = 3.6501\n"
     ]
    },
    {
     "name": "stderr",
     "output_type": "stream",
     "text": [
      "Epoch 40 [Train]: 100%|██████████| 436/436 [00:12<00:00, 33.60it/s]\n",
      "Epoch 40 [Val]: 100%|██████████| 109/109 [00:01<00:00, 97.94it/s]\n"
     ]
    },
    {
     "name": "stdout",
     "output_type": "stream",
     "text": [
      "Epoch 40: Train Loss = 0.3411, Val Loss = 3.7394\n"
     ]
    },
    {
     "name": "stderr",
     "output_type": "stream",
     "text": [
      "Epoch 41 [Train]: 100%|██████████| 436/436 [00:12<00:00, 33.71it/s]\n",
      "Epoch 41 [Val]: 100%|██████████| 109/109 [00:01<00:00, 92.42it/s]\n"
     ]
    },
    {
     "name": "stdout",
     "output_type": "stream",
     "text": [
      "Epoch 41: Train Loss = 0.2965, Val Loss = 3.7520\n"
     ]
    },
    {
     "name": "stderr",
     "output_type": "stream",
     "text": [
      "Epoch 42 [Train]: 100%|██████████| 436/436 [00:12<00:00, 33.66it/s]\n",
      "Epoch 42 [Val]: 100%|██████████| 109/109 [00:01<00:00, 94.65it/s]\n"
     ]
    },
    {
     "name": "stdout",
     "output_type": "stream",
     "text": [
      "Epoch 42: Train Loss = 0.2976, Val Loss = 3.7740\n"
     ]
    },
    {
     "name": "stderr",
     "output_type": "stream",
     "text": [
      "Epoch 43 [Train]: 100%|██████████| 436/436 [00:13<00:00, 33.41it/s]\n",
      "Epoch 43 [Val]: 100%|██████████| 109/109 [00:01<00:00, 95.72it/s]\n"
     ]
    },
    {
     "name": "stdout",
     "output_type": "stream",
     "text": [
      "Epoch 43: Train Loss = 0.2471, Val Loss = 3.8517\n"
     ]
    },
    {
     "name": "stderr",
     "output_type": "stream",
     "text": [
      "Epoch 44 [Train]: 100%|██████████| 436/436 [00:13<00:00, 32.11it/s]\n",
      "Epoch 44 [Val]: 100%|██████████| 109/109 [00:01<00:00, 95.44it/s]\n"
     ]
    },
    {
     "name": "stdout",
     "output_type": "stream",
     "text": [
      "Epoch 44: Train Loss = 0.2084, Val Loss = 4.0983\n"
     ]
    },
    {
     "name": "stderr",
     "output_type": "stream",
     "text": [
      "Epoch 45 [Train]: 100%|██████████| 436/436 [00:12<00:00, 33.68it/s]\n",
      "Epoch 45 [Val]: 100%|██████████| 109/109 [00:01<00:00, 92.67it/s]\n"
     ]
    },
    {
     "name": "stdout",
     "output_type": "stream",
     "text": [
      "Epoch 45: Train Loss = 0.2681, Val Loss = 3.9103\n"
     ]
    },
    {
     "name": "stderr",
     "output_type": "stream",
     "text": [
      "Epoch 46 [Train]: 100%|██████████| 436/436 [00:12<00:00, 34.36it/s]\n",
      "Epoch 46 [Val]: 100%|██████████| 109/109 [00:01<00:00, 95.16it/s]\n"
     ]
    },
    {
     "name": "stdout",
     "output_type": "stream",
     "text": [
      "Epoch 46: Train Loss = 0.1890, Val Loss = 3.9825\n"
     ]
    },
    {
     "name": "stderr",
     "output_type": "stream",
     "text": [
      "Epoch 47 [Train]: 100%|██████████| 436/436 [00:12<00:00, 33.80it/s]\n",
      "Epoch 47 [Val]: 100%|██████████| 109/109 [00:01<00:00, 96.67it/s]\n"
     ]
    },
    {
     "name": "stdout",
     "output_type": "stream",
     "text": [
      "Epoch 47: Train Loss = 0.1289, Val Loss = 4.1362\n"
     ]
    },
    {
     "name": "stderr",
     "output_type": "stream",
     "text": [
      "Epoch 48 [Train]: 100%|██████████| 436/436 [00:11<00:00, 36.57it/s]\n",
      "Epoch 48 [Val]: 100%|██████████| 109/109 [00:01<00:00, 105.68it/s]\n"
     ]
    },
    {
     "name": "stdout",
     "output_type": "stream",
     "text": [
      "Epoch 48: Train Loss = 0.1039, Val Loss = 4.0807\n"
     ]
    },
    {
     "name": "stderr",
     "output_type": "stream",
     "text": [
      "Epoch 49 [Train]: 100%|██████████| 436/436 [00:11<00:00, 36.72it/s]\n",
      "Epoch 49 [Val]: 100%|██████████| 109/109 [00:01<00:00, 101.62it/s]\n"
     ]
    },
    {
     "name": "stdout",
     "output_type": "stream",
     "text": [
      "Epoch 49: Train Loss = 0.1308, Val Loss = 4.1207\n"
     ]
    },
    {
     "name": "stderr",
     "output_type": "stream",
     "text": [
      "Epoch 50 [Train]: 100%|██████████| 436/436 [00:11<00:00, 36.71it/s]\n",
      "Epoch 50 [Val]: 100%|██████████| 109/109 [00:01<00:00, 101.48it/s]\n"
     ]
    },
    {
     "name": "stdout",
     "output_type": "stream",
     "text": [
      "Epoch 50: Train Loss = 0.2369, Val Loss = 4.3535\n",
      "Saved Fold 1 model.\n",
      "\n",
      "\n",
      "--- Fold 2 ---\n"
     ]
    },
    {
     "name": "stderr",
     "output_type": "stream",
     "text": [
      "Epoch 1 [Train]: 100%|██████████| 436/436 [00:11<00:00, 36.71it/s]\n",
      "Epoch 1 [Val]: 100%|██████████| 109/109 [00:01<00:00, 104.28it/s]\n"
     ]
    },
    {
     "name": "stdout",
     "output_type": "stream",
     "text": [
      "Epoch 1: Train Loss = 4.2095, Val Loss = 3.9961\n"
     ]
    },
    {
     "name": "stderr",
     "output_type": "stream",
     "text": [
      "Epoch 2 [Train]: 100%|██████████| 436/436 [00:11<00:00, 36.63it/s]\n",
      "Epoch 2 [Val]: 100%|██████████| 109/109 [00:01<00:00, 98.28it/s]\n"
     ]
    },
    {
     "name": "stdout",
     "output_type": "stream",
     "text": [
      "Epoch 2: Train Loss = 3.8801, Val Loss = 3.8629\n"
     ]
    },
    {
     "name": "stderr",
     "output_type": "stream",
     "text": [
      "Epoch 3 [Train]: 100%|██████████| 436/436 [00:12<00:00, 36.26it/s]\n",
      "Epoch 3 [Val]: 100%|██████████| 109/109 [00:01<00:00, 95.88it/s]\n"
     ]
    },
    {
     "name": "stdout",
     "output_type": "stream",
     "text": [
      "Epoch 3: Train Loss = 3.8118, Val Loss = 3.8136\n"
     ]
    },
    {
     "name": "stderr",
     "output_type": "stream",
     "text": [
      "Epoch 4 [Train]: 100%|██████████| 436/436 [00:12<00:00, 33.95it/s]\n",
      "Epoch 4 [Val]: 100%|██████████| 109/109 [00:01<00:00, 100.74it/s]\n"
     ]
    },
    {
     "name": "stdout",
     "output_type": "stream",
     "text": [
      "Epoch 4: Train Loss = 3.8257, Val Loss = 3.8068\n"
     ]
    },
    {
     "name": "stderr",
     "output_type": "stream",
     "text": [
      "Epoch 5 [Train]: 100%|██████████| 436/436 [00:11<00:00, 36.61it/s]\n",
      "Epoch 5 [Val]: 100%|██████████| 109/109 [00:01<00:00, 95.63it/s]\n"
     ]
    },
    {
     "name": "stdout",
     "output_type": "stream",
     "text": [
      "Epoch 5: Train Loss = 3.7484, Val Loss = 3.7729\n"
     ]
    },
    {
     "name": "stderr",
     "output_type": "stream",
     "text": [
      "Epoch 6 [Train]: 100%|██████████| 436/436 [00:12<00:00, 36.32it/s]\n",
      "Epoch 6 [Val]: 100%|██████████| 109/109 [00:01<00:00, 99.87it/s]\n"
     ]
    },
    {
     "name": "stdout",
     "output_type": "stream",
     "text": [
      "Epoch 6: Train Loss = 3.7089, Val Loss = 3.7904\n"
     ]
    },
    {
     "name": "stderr",
     "output_type": "stream",
     "text": [
      "Epoch 7 [Train]: 100%|██████████| 436/436 [00:11<00:00, 36.74it/s]\n",
      "Epoch 7 [Val]: 100%|██████████| 109/109 [00:01<00:00, 101.14it/s]\n"
     ]
    },
    {
     "name": "stdout",
     "output_type": "stream",
     "text": [
      "Epoch 7: Train Loss = 3.6552, Val Loss = 3.6846\n"
     ]
    },
    {
     "name": "stderr",
     "output_type": "stream",
     "text": [
      "Epoch 8 [Train]: 100%|██████████| 436/436 [00:12<00:00, 33.72it/s]\n",
      "Epoch 8 [Val]: 100%|██████████| 109/109 [00:01<00:00, 94.80it/s]\n"
     ]
    },
    {
     "name": "stdout",
     "output_type": "stream",
     "text": [
      "Epoch 8: Train Loss = 3.5974, Val Loss = 3.6469\n"
     ]
    },
    {
     "name": "stderr",
     "output_type": "stream",
     "text": [
      "Epoch 9 [Train]: 100%|██████████| 436/436 [00:13<00:00, 32.06it/s]\n",
      "Epoch 9 [Val]: 100%|██████████| 109/109 [00:01<00:00, 95.09it/s]\n"
     ]
    },
    {
     "name": "stdout",
     "output_type": "stream",
     "text": [
      "Epoch 9: Train Loss = 3.5459, Val Loss = 3.7122\n"
     ]
    },
    {
     "name": "stderr",
     "output_type": "stream",
     "text": [
      "Epoch 10 [Train]: 100%|██████████| 436/436 [00:13<00:00, 32.28it/s]\n",
      "Epoch 10 [Val]: 100%|██████████| 109/109 [00:01<00:00, 96.37it/s]\n"
     ]
    },
    {
     "name": "stdout",
     "output_type": "stream",
     "text": [
      "Epoch 10: Train Loss = 3.4838, Val Loss = 3.5732\n"
     ]
    },
    {
     "name": "stderr",
     "output_type": "stream",
     "text": [
      "Epoch 11 [Train]: 100%|██████████| 436/436 [00:13<00:00, 32.35it/s]\n",
      "Epoch 11 [Val]: 100%|██████████| 109/109 [00:01<00:00, 94.47it/s]\n"
     ]
    },
    {
     "name": "stdout",
     "output_type": "stream",
     "text": [
      "Epoch 11: Train Loss = 3.4192, Val Loss = 3.5285\n"
     ]
    },
    {
     "name": "stderr",
     "output_type": "stream",
     "text": [
      "Epoch 12 [Train]: 100%|██████████| 436/436 [00:13<00:00, 32.35it/s]\n",
      "Epoch 12 [Val]: 100%|██████████| 109/109 [00:01<00:00, 96.51it/s]\n"
     ]
    },
    {
     "name": "stdout",
     "output_type": "stream",
     "text": [
      "Epoch 12: Train Loss = 3.3429, Val Loss = 3.4904\n"
     ]
    },
    {
     "name": "stderr",
     "output_type": "stream",
     "text": [
      "Epoch 13 [Train]: 100%|██████████| 436/436 [00:13<00:00, 32.32it/s]\n",
      "Epoch 13 [Val]: 100%|██████████| 109/109 [00:01<00:00, 96.19it/s]\n"
     ]
    },
    {
     "name": "stdout",
     "output_type": "stream",
     "text": [
      "Epoch 13: Train Loss = 3.2808, Val Loss = 3.5116\n"
     ]
    },
    {
     "name": "stderr",
     "output_type": "stream",
     "text": [
      "Epoch 14 [Train]: 100%|██████████| 436/436 [00:13<00:00, 32.34it/s]\n",
      "Epoch 14 [Val]: 100%|██████████| 109/109 [00:01<00:00, 95.76it/s]\n"
     ]
    },
    {
     "name": "stdout",
     "output_type": "stream",
     "text": [
      "Epoch 14: Train Loss = 3.2080, Val Loss = 3.3835\n"
     ]
    },
    {
     "name": "stderr",
     "output_type": "stream",
     "text": [
      "Epoch 15 [Train]: 100%|██████████| 436/436 [00:13<00:00, 32.32it/s]\n",
      "Epoch 15 [Val]: 100%|██████████| 109/109 [00:01<00:00, 95.86it/s]\n"
     ]
    },
    {
     "name": "stdout",
     "output_type": "stream",
     "text": [
      "Epoch 15: Train Loss = 3.1012, Val Loss = 3.3501\n"
     ]
    },
    {
     "name": "stderr",
     "output_type": "stream",
     "text": [
      "Epoch 16 [Train]: 100%|██████████| 436/436 [00:13<00:00, 32.42it/s]\n",
      "Epoch 16 [Val]: 100%|██████████| 109/109 [00:01<00:00, 95.37it/s]\n"
     ]
    },
    {
     "name": "stdout",
     "output_type": "stream",
     "text": [
      "Epoch 16: Train Loss = 3.0411, Val Loss = 3.3360\n"
     ]
    },
    {
     "name": "stderr",
     "output_type": "stream",
     "text": [
      "Epoch 17 [Train]: 100%|██████████| 436/436 [00:13<00:00, 32.29it/s]\n",
      "Epoch 17 [Val]: 100%|██████████| 109/109 [00:01<00:00, 95.42it/s]\n"
     ]
    },
    {
     "name": "stdout",
     "output_type": "stream",
     "text": [
      "Epoch 17: Train Loss = 2.9582, Val Loss = 3.2767\n"
     ]
    },
    {
     "name": "stderr",
     "output_type": "stream",
     "text": [
      "Epoch 18 [Train]: 100%|██████████| 436/436 [00:13<00:00, 32.22it/s]\n",
      "Epoch 18 [Val]: 100%|██████████| 109/109 [00:01<00:00, 95.54it/s]\n"
     ]
    },
    {
     "name": "stdout",
     "output_type": "stream",
     "text": [
      "Epoch 18: Train Loss = 2.8996, Val Loss = 3.2184\n"
     ]
    },
    {
     "name": "stderr",
     "output_type": "stream",
     "text": [
      "Epoch 19 [Train]: 100%|██████████| 436/436 [00:13<00:00, 32.32it/s]\n",
      "Epoch 19 [Val]: 100%|██████████| 109/109 [00:01<00:00, 94.90it/s]\n"
     ]
    },
    {
     "name": "stdout",
     "output_type": "stream",
     "text": [
      "Epoch 19: Train Loss = 2.8044, Val Loss = 3.2047\n"
     ]
    },
    {
     "name": "stderr",
     "output_type": "stream",
     "text": [
      "Epoch 20 [Train]: 100%|██████████| 436/436 [00:13<00:00, 32.27it/s]\n",
      "Epoch 20 [Val]: 100%|██████████| 109/109 [00:01<00:00, 95.16it/s]\n"
     ]
    },
    {
     "name": "stdout",
     "output_type": "stream",
     "text": [
      "Epoch 20: Train Loss = 2.7239, Val Loss = 3.2037\n"
     ]
    },
    {
     "name": "stderr",
     "output_type": "stream",
     "text": [
      "Epoch 21 [Train]: 100%|██████████| 436/436 [00:13<00:00, 32.34it/s]\n",
      "Epoch 21 [Val]: 100%|██████████| 109/109 [00:01<00:00, 94.92it/s]\n"
     ]
    },
    {
     "name": "stdout",
     "output_type": "stream",
     "text": [
      "Epoch 21: Train Loss = 2.6375, Val Loss = 3.1391\n"
     ]
    },
    {
     "name": "stderr",
     "output_type": "stream",
     "text": [
      "Epoch 22 [Train]: 100%|██████████| 436/436 [00:13<00:00, 32.26it/s]\n",
      "Epoch 22 [Val]: 100%|██████████| 109/109 [00:01<00:00, 95.05it/s]\n"
     ]
    },
    {
     "name": "stdout",
     "output_type": "stream",
     "text": [
      "Epoch 22: Train Loss = 2.5266, Val Loss = 3.1163\n"
     ]
    },
    {
     "name": "stderr",
     "output_type": "stream",
     "text": [
      "Epoch 23 [Train]: 100%|██████████| 436/436 [00:13<00:00, 32.07it/s]\n",
      "Epoch 23 [Val]: 100%|██████████| 109/109 [00:01<00:00, 96.22it/s]\n"
     ]
    },
    {
     "name": "stdout",
     "output_type": "stream",
     "text": [
      "Epoch 23: Train Loss = 2.4464, Val Loss = 3.0805\n"
     ]
    },
    {
     "name": "stderr",
     "output_type": "stream",
     "text": [
      "Epoch 24 [Train]: 100%|██████████| 436/436 [00:12<00:00, 35.09it/s]\n",
      "Epoch 24 [Val]: 100%|██████████| 109/109 [00:01<00:00, 93.96it/s]\n"
     ]
    },
    {
     "name": "stdout",
     "output_type": "stream",
     "text": [
      "Epoch 24: Train Loss = 2.3523, Val Loss = 3.0379\n"
     ]
    },
    {
     "name": "stderr",
     "output_type": "stream",
     "text": [
      "Epoch 25 [Train]: 100%|██████████| 436/436 [00:13<00:00, 31.42it/s]\n",
      "Epoch 25 [Val]: 100%|██████████| 109/109 [00:01<00:00, 95.67it/s]\n"
     ]
    },
    {
     "name": "stdout",
     "output_type": "stream",
     "text": [
      "Epoch 25: Train Loss = 2.2172, Val Loss = 3.1044\n"
     ]
    },
    {
     "name": "stderr",
     "output_type": "stream",
     "text": [
      "Epoch 26 [Train]: 100%|██████████| 436/436 [00:13<00:00, 32.24it/s]\n",
      "Epoch 26 [Val]: 100%|██████████| 109/109 [00:01<00:00, 96.63it/s]\n"
     ]
    },
    {
     "name": "stdout",
     "output_type": "stream",
     "text": [
      "Epoch 26: Train Loss = 2.1103, Val Loss = 3.0389\n"
     ]
    },
    {
     "name": "stderr",
     "output_type": "stream",
     "text": [
      "Epoch 27 [Train]: 100%|██████████| 436/436 [00:13<00:00, 32.26it/s]\n",
      "Epoch 27 [Val]: 100%|██████████| 109/109 [00:01<00:00, 98.20it/s]\n"
     ]
    },
    {
     "name": "stdout",
     "output_type": "stream",
     "text": [
      "Epoch 27: Train Loss = 1.9884, Val Loss = 3.1001\n"
     ]
    },
    {
     "name": "stderr",
     "output_type": "stream",
     "text": [
      "Epoch 28 [Train]: 100%|██████████| 436/436 [00:13<00:00, 32.33it/s]\n",
      "Epoch 28 [Val]: 100%|██████████| 109/109 [00:01<00:00, 93.64it/s]\n"
     ]
    },
    {
     "name": "stdout",
     "output_type": "stream",
     "text": [
      "Epoch 28: Train Loss = 1.8591, Val Loss = 3.0747\n"
     ]
    },
    {
     "name": "stderr",
     "output_type": "stream",
     "text": [
      "Epoch 29 [Train]: 100%|██████████| 436/436 [00:13<00:00, 32.20it/s]\n",
      "Epoch 29 [Val]: 100%|██████████| 109/109 [00:01<00:00, 96.83it/s]\n"
     ]
    },
    {
     "name": "stdout",
     "output_type": "stream",
     "text": [
      "Epoch 29: Train Loss = 1.7623, Val Loss = 3.0388\n"
     ]
    },
    {
     "name": "stderr",
     "output_type": "stream",
     "text": [
      "Epoch 30 [Train]: 100%|██████████| 436/436 [00:13<00:00, 32.24it/s]\n",
      "Epoch 30 [Val]: 100%|██████████| 109/109 [00:01<00:00, 95.18it/s]\n"
     ]
    },
    {
     "name": "stdout",
     "output_type": "stream",
     "text": [
      "Epoch 30: Train Loss = 1.6195, Val Loss = 3.0764\n"
     ]
    },
    {
     "name": "stderr",
     "output_type": "stream",
     "text": [
      "Epoch 31 [Train]: 100%|██████████| 436/436 [00:13<00:00, 32.15it/s]\n",
      "Epoch 31 [Val]: 100%|██████████| 109/109 [00:01<00:00, 97.55it/s]\n"
     ]
    },
    {
     "name": "stdout",
     "output_type": "stream",
     "text": [
      "Epoch 31: Train Loss = 1.5039, Val Loss = 3.1311\n"
     ]
    },
    {
     "name": "stderr",
     "output_type": "stream",
     "text": [
      "Epoch 32 [Train]: 100%|██████████| 436/436 [00:13<00:00, 32.33it/s]\n",
      "Epoch 32 [Val]: 100%|██████████| 109/109 [00:01<00:00, 95.38it/s]\n"
     ]
    },
    {
     "name": "stdout",
     "output_type": "stream",
     "text": [
      "Epoch 32: Train Loss = 1.3768, Val Loss = 3.1088\n"
     ]
    },
    {
     "name": "stderr",
     "output_type": "stream",
     "text": [
      "Epoch 33 [Train]: 100%|██████████| 436/436 [00:14<00:00, 31.04it/s]\n",
      "Epoch 33 [Val]: 100%|██████████| 109/109 [00:01<00:00, 75.47it/s]\n"
     ]
    },
    {
     "name": "stdout",
     "output_type": "stream",
     "text": [
      "Epoch 33: Train Loss = 1.2459, Val Loss = 3.1615\n"
     ]
    },
    {
     "name": "stderr",
     "output_type": "stream",
     "text": [
      "Epoch 34 [Train]: 100%|██████████| 436/436 [00:13<00:00, 32.77it/s]\n",
      "Epoch 34 [Val]: 100%|██████████| 109/109 [00:01<00:00, 102.08it/s]\n"
     ]
    },
    {
     "name": "stdout",
     "output_type": "stream",
     "text": [
      "Epoch 34: Train Loss = 1.1499, Val Loss = 3.2573\n"
     ]
    },
    {
     "name": "stderr",
     "output_type": "stream",
     "text": [
      "Epoch 35 [Train]: 100%|██████████| 436/436 [00:12<00:00, 35.21it/s]\n",
      "Epoch 35 [Val]: 100%|██████████| 109/109 [00:01<00:00, 96.40it/s]\n"
     ]
    },
    {
     "name": "stdout",
     "output_type": "stream",
     "text": [
      "Epoch 35: Train Loss = 1.0608, Val Loss = 3.2761\n"
     ]
    },
    {
     "name": "stderr",
     "output_type": "stream",
     "text": [
      "Epoch 36 [Train]: 100%|██████████| 436/436 [00:12<00:00, 34.84it/s]\n",
      "Epoch 36 [Val]: 100%|██████████| 109/109 [00:01<00:00, 93.58it/s]\n"
     ]
    },
    {
     "name": "stdout",
     "output_type": "stream",
     "text": [
      "Epoch 36: Train Loss = 0.9440, Val Loss = 3.2446\n"
     ]
    },
    {
     "name": "stderr",
     "output_type": "stream",
     "text": [
      "Epoch 37 [Train]: 100%|██████████| 436/436 [00:11<00:00, 36.34it/s]\n",
      "Epoch 37 [Val]: 100%|██████████| 109/109 [00:01<00:00, 105.23it/s]\n"
     ]
    },
    {
     "name": "stdout",
     "output_type": "stream",
     "text": [
      "Epoch 37: Train Loss = 0.8627, Val Loss = 3.3601\n"
     ]
    },
    {
     "name": "stderr",
     "output_type": "stream",
     "text": [
      "Epoch 38 [Train]: 100%|██████████| 436/436 [00:11<00:00, 36.69it/s]\n",
      "Epoch 38 [Val]: 100%|██████████| 109/109 [00:01<00:00, 102.69it/s]\n"
     ]
    },
    {
     "name": "stdout",
     "output_type": "stream",
     "text": [
      "Epoch 38: Train Loss = 0.7359, Val Loss = 3.3756\n"
     ]
    },
    {
     "name": "stderr",
     "output_type": "stream",
     "text": [
      "Epoch 39 [Train]: 100%|██████████| 436/436 [00:11<00:00, 36.63it/s]\n",
      "Epoch 39 [Val]: 100%|██████████| 109/109 [00:01<00:00, 99.94it/s]\n"
     ]
    },
    {
     "name": "stdout",
     "output_type": "stream",
     "text": [
      "Epoch 39: Train Loss = 0.6779, Val Loss = 3.3896\n"
     ]
    },
    {
     "name": "stderr",
     "output_type": "stream",
     "text": [
      "Epoch 40 [Train]: 100%|██████████| 436/436 [00:11<00:00, 36.85it/s]\n",
      "Epoch 40 [Val]: 100%|██████████| 109/109 [00:01<00:00, 100.76it/s]\n"
     ]
    },
    {
     "name": "stdout",
     "output_type": "stream",
     "text": [
      "Epoch 40: Train Loss = 0.6030, Val Loss = 3.5644\n"
     ]
    },
    {
     "name": "stderr",
     "output_type": "stream",
     "text": [
      "Epoch 41 [Train]: 100%|██████████| 436/436 [00:11<00:00, 36.79it/s]\n",
      "Epoch 41 [Val]: 100%|██████████| 109/109 [00:01<00:00, 102.25it/s]\n"
     ]
    },
    {
     "name": "stdout",
     "output_type": "stream",
     "text": [
      "Epoch 41: Train Loss = 0.5330, Val Loss = 3.5658\n"
     ]
    },
    {
     "name": "stderr",
     "output_type": "stream",
     "text": [
      "Epoch 42 [Train]: 100%|██████████| 436/436 [00:11<00:00, 36.79it/s]\n",
      "Epoch 42 [Val]: 100%|██████████| 109/109 [00:01<00:00, 99.68it/s]\n"
     ]
    },
    {
     "name": "stdout",
     "output_type": "stream",
     "text": [
      "Epoch 42: Train Loss = 0.4897, Val Loss = 3.7466\n"
     ]
    },
    {
     "name": "stderr",
     "output_type": "stream",
     "text": [
      "Epoch 43 [Train]: 100%|██████████| 436/436 [00:12<00:00, 34.70it/s]\n",
      "Epoch 43 [Val]: 100%|██████████| 109/109 [00:01<00:00, 95.60it/s]\n"
     ]
    },
    {
     "name": "stdout",
     "output_type": "stream",
     "text": [
      "Epoch 43: Train Loss = 0.5082, Val Loss = 3.5878\n"
     ]
    },
    {
     "name": "stderr",
     "output_type": "stream",
     "text": [
      "Epoch 44 [Train]: 100%|██████████| 436/436 [00:11<00:00, 36.34it/s]\n",
      "Epoch 44 [Val]: 100%|██████████| 109/109 [00:01<00:00, 99.39it/s]\n"
     ]
    },
    {
     "name": "stdout",
     "output_type": "stream",
     "text": [
      "Epoch 44: Train Loss = 0.3865, Val Loss = 3.6802\n"
     ]
    },
    {
     "name": "stderr",
     "output_type": "stream",
     "text": [
      "Epoch 45 [Train]: 100%|██████████| 436/436 [00:11<00:00, 36.84it/s]\n",
      "Epoch 45 [Val]: 100%|██████████| 109/109 [00:01<00:00, 101.38it/s]\n"
     ]
    },
    {
     "name": "stdout",
     "output_type": "stream",
     "text": [
      "Epoch 45: Train Loss = 0.2997, Val Loss = 3.7922\n"
     ]
    },
    {
     "name": "stderr",
     "output_type": "stream",
     "text": [
      "Epoch 46 [Train]: 100%|██████████| 436/436 [00:12<00:00, 33.72it/s]\n",
      "Epoch 46 [Val]: 100%|██████████| 109/109 [00:01<00:00, 95.43it/s]\n"
     ]
    },
    {
     "name": "stdout",
     "output_type": "stream",
     "text": [
      "Epoch 46: Train Loss = 0.2712, Val Loss = 3.8795\n"
     ]
    },
    {
     "name": "stderr",
     "output_type": "stream",
     "text": [
      "Epoch 47 [Train]:   7%|▋         | 30/436 [00:00<00:13, 31.21it/s]\n"
     ]
    },
    {
     "ename": "KeyboardInterrupt",
     "evalue": "",
     "output_type": "error",
     "traceback": [
      "\u001b[31m---------------------------------------------------------------------------\u001b[39m",
      "\u001b[31mKeyboardInterrupt\u001b[39m                         Traceback (most recent call last)",
      "\u001b[36mCell\u001b[39m\u001b[36m \u001b[39m\u001b[32mIn[178]\u001b[39m\u001b[32m, line 76\u001b[39m\n\u001b[32m     73\u001b[39m         \u001b[38;5;28mprint\u001b[39m(\u001b[33mf\u001b[39m\u001b[33m\"\u001b[39m\u001b[33mSaved Fold \u001b[39m\u001b[38;5;132;01m{\u001b[39;00mfold+\u001b[32m1\u001b[39m\u001b[38;5;132;01m}\u001b[39;00m\u001b[33m model.\u001b[39m\u001b[38;5;130;01m\\n\u001b[39;00m\u001b[33m\"\u001b[39m)\n\u001b[32m     75\u001b[39m \u001b[38;5;28;01mif\u001b[39;00m \u001b[34m__name__\u001b[39m == \u001b[33m\"\u001b[39m\u001b[33m__main__\u001b[39m\u001b[33m\"\u001b[39m:\n\u001b[32m---> \u001b[39m\u001b[32m76\u001b[39m     \u001b[43mtrain\u001b[49m\u001b[43m(\u001b[49m\u001b[43mk\u001b[49m\u001b[43m=\u001b[49m\u001b[32;43m5\u001b[39;49m\u001b[43m)\u001b[49m\n",
      "\u001b[36mCell\u001b[39m\u001b[36m \u001b[39m\u001b[32mIn[178]\u001b[39m\u001b[32m, line 43\u001b[39m, in \u001b[36mtrain\u001b[39m\u001b[34m(k)\u001b[39m\n\u001b[32m     40\u001b[39m preds = model(images)\n\u001b[32m     41\u001b[39m input_lengths = torch.full((preds.size(\u001b[32m1\u001b[39m),), preds.size(\u001b[32m0\u001b[39m), dtype=torch.long, device=device)\n\u001b[32m---> \u001b[39m\u001b[32m43\u001b[39m loss = criterion(\u001b[43mpreds\u001b[49m\u001b[43m.\u001b[49m\u001b[43mlog_softmax\u001b[49m\u001b[43m(\u001b[49m\u001b[32;43m2\u001b[39;49m\u001b[43m)\u001b[49m\u001b[43m.\u001b[49m\u001b[43mcpu\u001b[49m\u001b[43m(\u001b[49m\u001b[43m)\u001b[49m, labels.cpu(), input_lengths.cpu(), label_lengths.cpu())\n\u001b[32m     45\u001b[39m optimizer.zero_grad()\n\u001b[32m     46\u001b[39m loss.backward()\n",
      "\u001b[31mKeyboardInterrupt\u001b[39m: "
     ]
    }
   ],
   "source": [
    "# Training Loop\n",
    "\n",
    "def train(k=5):\n",
    "    # Device selection with MPS support\n",
    "    if torch.backends.mps.is_available() and torch.backends.mps.is_built():\n",
    "        device = torch.device(\"mps\")\n",
    "    elif torch.cuda.is_available():\n",
    "        device = torch.device(\"cuda\")\n",
    "    else:\n",
    "        device = torch.device(\"cpu\")\n",
    "    print(f\"Using Device: {device}\")\n",
    "\n",
    "    charset = [line.rstrip('\\n') for line in open(\"nepali_characters.txt\", encoding=\"utf-8\")]\n",
    "\n",
    "    full_dataset = NepaliOCRDataset(\"./dataset/labels.csv\", \"./dataset/train\", charset=charset)\n",
    "    kf = KFold(n_splits=k, shuffle=True, random_state=42)\n",
    "\n",
    "    for fold, (train_idx, val_idx) in enumerate(kf.split(full_dataset)):\n",
    "        print(f\"\\n--- Fold {fold + 1} ---\")\n",
    "\n",
    "        train_subset = Subset(full_dataset, train_idx)\n",
    "        val_subset = Subset(full_dataset, val_idx)\n",
    "\n",
    "        train_loader = DataLoader(train_subset, batch_size=8, shuffle=True, collate_fn=collate_fn)\n",
    "        val_loader = DataLoader(val_subset, batch_size=8, shuffle=False, collate_fn=collate_fn)\n",
    "\n",
    "        model = CRNN(num_classes=len(charset)).to(device)\n",
    "        criterion = nn.CTCLoss(blank= 0, zero_infinity=True)\n",
    "        optimizer = optim.Adam(model.parameters(), lr=0.001)\n",
    "\n",
    "        for epoch in range(50):\n",
    "            model.train()\n",
    "            train_loss = 0.0\n",
    "\n",
    "            # tqdm wrapper here\n",
    "            for images, labels, label_lengths in tqdm(train_loader, desc=f\"Epoch {epoch+1} [Train]\"):\n",
    "                images = images.to(device)\n",
    "                labels = labels.to(device)\n",
    "\n",
    "                preds = model(images)\n",
    "                input_lengths = torch.full((preds.size(1),), preds.size(0), dtype=torch.long, device=device)\n",
    "\n",
    "                loss = criterion(preds.log_softmax(2).cpu(), labels.cpu(), input_lengths.cpu(), label_lengths.cpu())\n",
    "\n",
    "                optimizer.zero_grad()\n",
    "                loss.backward()\n",
    "                optimizer.step()\n",
    "\n",
    "                train_loss += loss.item()\n",
    "\n",
    "            # validation loop with tqdm\n",
    "            model.eval()\n",
    "            val_loss = 0.0\n",
    "            with torch.no_grad():\n",
    "                for images, labels, label_lengths in tqdm(val_loader, desc=f\"Epoch {epoch+1} [Val]\"):\n",
    "                    images = images.to(device)\n",
    "                    labels = labels.to(device)\n",
    "\n",
    "                    preds = model(images)\n",
    "                    input_lengths = torch.full((preds.size(1),), preds.size(0), dtype=torch.long, device=device)\n",
    "                    loss = criterion(\n",
    "                        preds.log_softmax(2).cpu(),\n",
    "                        labels.cpu(),\n",
    "                        input_lengths.cpu(),\n",
    "                        label_lengths.cpu()\n",
    "                    )\n",
    "\n",
    "                    val_loss += loss.item()\n",
    "\n",
    "            print(f\"Epoch {epoch+1}: Train Loss = {train_loss/len(train_loader):.4f}, Val Loss = {val_loss/len(val_loader):.4f}\")\n",
    "\n",
    "        torch.save(model.state_dict(), f\"crnn_fold{fold+1}.pth\")\n",
    "        print(f\"Saved Fold {fold+1} model.\\n\")\n",
    "\n",
    "if __name__ == \"__main__\":\n",
    "    train(k=5)\n"
   ]
  },
  {
   "cell_type": "code",
   "execution_count": null,
   "metadata": {},
   "outputs": [],
   "source": []
  }
 ],
 "metadata": {
  "kernelspec": {
   "display_name": "deep_learning",
   "language": "python",
   "name": "python3"
  },
  "language_info": {
   "codemirror_mode": {
    "name": "ipython",
    "version": 3
   },
   "file_extension": ".py",
   "mimetype": "text/x-python",
   "name": "python",
   "nbconvert_exporter": "python",
   "pygments_lexer": "ipython3",
   "version": "3.11.11"
  }
 },
 "nbformat": 4,
 "nbformat_minor": 2
}
