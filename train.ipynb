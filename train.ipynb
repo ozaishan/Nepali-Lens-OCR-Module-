{
 "cells": [
  {
   "cell_type": "code",
   "execution_count": null,
   "metadata": {},
   "outputs": [],
   "source": [
    "from transformers import TrOCRProcessor, VisionEncoderDecoderModel, Seq2SeqTrainer, Seq2SeqTrainingArguments\n",
    "from datasets import Dataset, DatasetDict\n",
    "from PIL import Image\n",
    "import pandas as pd\n",
    "import os\n"
   ]
  },
  {
   "cell_type": "code",
   "execution_count": null,
   "metadata": {},
   "outputs": [],
   "source": [
    "# Loading CSV file and preparing dataset\n",
    "csv_path = \"./dataset/labels_comma.csv\"\n",
    "images_folder = \"./dataset/crops\""
   ]
  },
  {
   "cell_type": "code",
   "execution_count": null,
   "metadata": {},
   "outputs": [],
   "source": [
    "\n",
    "\n",
    "df = pd.read_csv(csv_path, engine=\"python\", encoding=\"utf-8\")\n",
    "\n",
    "# Adding full image path for loading\n",
    "df[\"image_path\"] = df[\"image_file\"].apply(lambda x: os.path.join(images_folder, x))\n",
    "\n",
    "# Splitting data to train and test\n",
    "train_df = df.sample(frac=0.8, random_state=42)\n",
    "test_df = df.drop(train_df.index)\n",
    "\n",
    "# Converting to HuggingFace datasets\n",
    "train_ds = Dataset.from_pandas(train_df.reset_index(drop=True))\n",
    "test_ds = Dataset.from_pandas(test_df.reset_index(drop=True))\n",
    "dataset = DatasetDict({\"train\": train_ds, \"Validation\": test_ds})"
   ]
  },
  {
   "cell_type": "code",
   "execution_count": null,
   "metadata": {},
   "outputs": [],
   "source": [
    "# Loading Processor and model\n",
    "processor = TrOCRProcessor.from_pretrained(\"microsoft/trocr-base-stage1\")\n",
    "model = VisionEncoderDecoderModel.from_pretrained(\"microsoft/trocr-base-stage1\")\n",
    "\n",
    "model.config.decoder_start_token_id = processor.tokenizer.bos_token_id\n",
    "model.config.pad_token_id = processor.tokenizer.pad_token_id\n",
    "model.config.eos_token_id = processor.tokenizer.eos_token_id\n",
    "model.config.max_length = 32\n",
    "model.config.early_stopping = True\n",
    "model.config.num_beams = 4\n",
    "\n"
   ]
  },
  {
   "cell_type": "code",
   "execution_count": null,
   "metadata": {},
   "outputs": [],
   "source": [
    "# Preprocessing Function\n",
    "def preprocess(example):\n",
    "    image = Image.open(example[\"image_path\"]).convert(\"RGB\")\n",
    "\n",
    "    # Processing image into model format\n",
    "    pixel_values = processor(images=image, return_tensors=\"pt\").pixel_values[0]\n",
    "\n",
    "    # Tokenizing target text\n",
    "    labels = processor.tokenizer(example[\"text\"], padding=\"max_length\", truncation=True, max_length=32).input_ids\n",
    "    labels = [label if label != processor.tokenizer.pad_token_id else -100 for label in labels]\n",
    "    return {\"pixel_values\": pixel_values, \"labels\": labels}\n",
    "\n",
    "# Apply preprocessing\n",
    "dataset = dataset.map(preprocess)"
   ]
  },
  {
   "cell_type": "code",
   "execution_count": null,
   "metadata": {},
   "outputs": [],
   "source": [
    "\n",
    "\n",
    "# === 4. Training Arguments ===\n",
    "training_args = Seq2SeqTrainingArguments(\n",
    "    output_dir=\"./ocr-nepali-trocr\",\n",
    "    per_device_train_batch_size=2,\n",
    "    per_device_eval_batch_size=2,\n",
    "    predict_with_generate=True,\n",
    "    num_train_epochs=5,\n",
    "    learning_rate=5e-5,\n",
    "    eval_strategy=\"epoch\",\n",
    "    save_strategy=\"epoch\",\n",
    "    logging_dir=\"./logs\",\n",
    "    use_cpu=True,\n",
    "   \n",
    ")\n",
    "\n",
    "# === 5. Trainer ===\n",
    "trainer = Seq2SeqTrainer(\n",
    "    model=model,\n",
    "    args=training_args,\n",
    "    train_dataset=dataset[\"train\"],\n",
    "    eval_dataset=dataset[\"Validation\"],\n",
    ")\n",
    "\n",
    "# === 6. Train the model ===\n",
    "trainer.train()"
   ]
  },
  {
   "cell_type": "code",
   "execution_count": null,
   "metadata": {},
   "outputs": [],
   "source": [
    "# === 7. Save the fine-tuned model ===\n",
    "model.save_pretrained(\"./ocr-nepali-trocr\")\n",
    "processor.save_pretrained(\"./ocr-nepali-trocr\")"
   ]
  }
 ],
 "metadata": {
  "kernelspec": {
   "display_name": "myenv",
   "language": "python",
   "name": "python3"
  },
  "language_info": {
   "codemirror_mode": {
    "name": "ipython",
    "version": 3
   },
   "file_extension": ".py",
   "mimetype": "text/x-python",
   "name": "python",
   "nbconvert_exporter": "python",
   "pygments_lexer": "ipython3",
   "version": "3.11.11"
  }
 },
 "nbformat": 4,
 "nbformat_minor": 2
}
