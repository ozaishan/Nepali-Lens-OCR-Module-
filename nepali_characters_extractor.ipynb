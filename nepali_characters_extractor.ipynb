{
 "cells": [
  {
   "cell_type": "code",
   "execution_count": 4,
   "metadata": {},
   "outputs": [
    {
     "name": "stdout",
     "output_type": "stream",
     "text": [
      "Extracted 140 unique characters to nepali_characters.txt\n"
     ]
    }
   ],
   "source": [
    "import pandas as pd\n",
    "\n",
    "# Load the labels manually by splitting on the first space\n",
    "labels_path = \"./dataset/labels.csv\"\n",
    "\n",
    "# Try utf-8 first, fall back to utf-16\n",
    "try:\n",
    "    with open(labels_path, encoding=\"utf-8\") as f:\n",
    "        lines = f.readlines()\n",
    "except UnicodeError:\n",
    "    with open(labels_path, encoding=\"utf-16\") as f:\n",
    "        lines = f.readlines()\n",
    "\n",
    "# Process lines to extract filename and text\n",
    "data = []\n",
    "for line in lines:\n",
    "    line = line.strip()\n",
    "    if not line:\n",
    "        continue\n",
    "    parts = line.split(\" \", 1)  # Split at first space only\n",
    "    if len(parts) == 2:\n",
    "        data.append(parts)\n",
    "    else:\n",
    "        print(f\"Skipping malformed line: {line}\")\n",
    "\n",
    "# Create DataFrame\n",
    "df = pd.DataFrame(data, columns=[\"filename\", \"text\"])\n",
    "\n",
    "# Extract all unique characters\n",
    "all_text = \"\".join(df[\"text\"])\n",
    "unique_chars = sorted(set(all_text))\n",
    "\n",
    "# Write to nepali_characters.txt\n",
    "with open(\"nepali_characters.txt\", \"w\", encoding=\"utf-8\") as f:\n",
    "    for char in unique_chars:\n",
    "        f.write(f\"{char}\\n\")\n",
    "\n",
    "print(f\"Extracted {len(unique_chars)} unique characters to nepali_characters.txt\")\n"
   ]
  }
 ],
 "metadata": {
  "kernelspec": {
   "display_name": "myenv",
   "language": "python",
   "name": "python3"
  },
  "language_info": {
   "codemirror_mode": {
    "name": "ipython",
    "version": 3
   },
   "file_extension": ".py",
   "mimetype": "text/x-python",
   "name": "python",
   "nbconvert_exporter": "python",
   "pygments_lexer": "ipython3",
   "version": "3.11.11"
  }
 },
 "nbformat": 4,
 "nbformat_minor": 2
}
